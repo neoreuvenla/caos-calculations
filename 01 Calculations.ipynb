{
 "cells": [
  {
   "cell_type": "code",
   "execution_count": 7,
   "id": "7ac109bf",
   "metadata": {},
   "outputs": [],
   "source": [
    "import math"
   ]
  },
  {
   "cell_type": "markdown",
   "id": "d01ea6a3",
   "metadata": {},
   "source": [
    "# 1.0 Measurements"
   ]
  },
  {
   "cell_type": "code",
   "execution_count": 17,
   "id": "ec9f04c3",
   "metadata": {},
   "outputs": [],
   "source": [
    "# digital information sizes\n",
    "\n",
    "\n",
    "To convert from millionsof bits or bytes into binary megabytes, simply divide the\n",
    "subject figure by 1.024 twice, and for billions of bytes to gigabytes, divide three times."
   ]
  },
  {
   "cell_type": "markdown",
   "id": "4df8f663",
   "metadata": {},
   "source": [
    "# 2.0 Parallelism"
   ]
  },
  {
   "cell_type": "code",
   "execution_count": 10,
   "id": "cd6e40dd",
   "metadata": {},
   "outputs": [
    {
     "name": "stdout",
     "output_type": "stream",
     "text": [
      "Performance increase = 2.0\n"
     ]
    }
   ],
   "source": [
    "# amdahl’s law - the upper limit speedup possible through parallelism\n",
    "\n",
    "parallelisable = 0.50\n",
    "\n",
    "increase = 1 / (1 - parallelisable)\n",
    "\n",
    "print(\"Performance increase = \" + str(increase))"
   ]
  },
  {
   "cell_type": "code",
   "execution_count": 11,
   "id": "972b54e6",
   "metadata": {},
   "outputs": [
    {
     "name": "stdout",
     "output_type": "stream",
     "text": [
      "Performance increase = 9.910802775024779\n"
     ]
    }
   ],
   "source": [
    "# true speedup - the upper limit speedup possible for a parallel processing system\n",
    "\n",
    "parallelisable = 0.9\n",
    "processors = 1000\n",
    "\n",
    "increase = 1 / ((1 - parallelisable) + (parallelisable / processors))\n",
    "\n",
    "print(\"Performance increase = \" + str(increase))"
   ]
  },
  {
   "cell_type": "markdown",
   "id": "55c73aaa",
   "metadata": {},
   "source": [
    "# 3.0 Memory"
   ]
  },
  {
   "cell_type": "code",
   "execution_count": 19,
   "id": "3722d96e",
   "metadata": {},
   "outputs": [
    {
     "name": "stdout",
     "output_type": "stream",
     "text": [
      "Reads per second = 266\n",
      "Memory bandwidth = 1064\n"
     ]
    }
   ],
   "source": [
    "# memory bandwidth\n",
    "\n",
    "cycle = 5   # clocks per read\n",
    "dram = 1333 # dram clock rate\n",
    "bits = 32   # memory bus width\n",
    "\n",
    "reads = math.floor(dram/cycle)\n",
    "\n",
    "print(\"Reads per second = \" + str(reads))\n",
    "\n",
    "bandwidth = math.floor(reads * (bits/8))\n",
    "\n",
    "print(\"Memory bandwidth = \" + str(bandwidth))"
   ]
  }
 ],
 "metadata": {
  "kernelspec": {
   "display_name": "Python 3 (ipykernel)",
   "language": "python",
   "name": "python3"
  },
  "language_info": {
   "codemirror_mode": {
    "name": "ipython",
    "version": 3
   },
   "file_extension": ".py",
   "mimetype": "text/x-python",
   "name": "python",
   "nbconvert_exporter": "python",
   "pygments_lexer": "ipython3",
   "version": "3.9.7"
  }
 },
 "nbformat": 4,
 "nbformat_minor": 5
}
