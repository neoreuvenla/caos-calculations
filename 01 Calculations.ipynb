{
 "cells": [
  {
   "cell_type": "code",
   "execution_count": 7,
   "id": "7ac109bf",
   "metadata": {},
   "outputs": [],
   "source": [
    "import math"
   ]
  },
  {
   "cell_type": "markdown",
   "id": "d01ea6a3",
   "metadata": {},
   "source": [
    "# 1.0 Measurements"
   ]
  },
  {
   "cell_type": "code",
   "execution_count": 17,
   "id": "ec9f04c3",
   "metadata": {},
   "outputs": [],
   "source": [
    "# digital information sizes\n",
    "\n",
    "\n",
    "To convert from millionsof bits or bytes into binary megabytes, simply divide the\n",
    "subject figure by 1.024 twice, and for billions of bytes to gigabytes, divide three times."
   ]
  },
  {
   "cell_type": "markdown",
   "id": "4df8f663",
   "metadata": {},
   "source": [
    "# 2.0 Parallelism"
   ]
  },
  {
   "cell_type": "code",
   "execution_count": 10,
   "id": "cd6e40dd",
   "metadata": {},
   "outputs": [
    {
     "name": "stdout",
     "output_type": "stream",
     "text": [
      "Performance increase = 2.0\n"
     ]
    }
   ],
   "source": [
    "# amdahl’s law - the upper limit speedup possible through parallelism\n",
    "\n",
    "parallelisable = 0.50\n",
    "\n",
    "increase = 1 / (1 - parallelisable)\n",
    "\n",
    "print(\"Performance increase = \" + str(increase))"
   ]
  },
  {
   "cell_type": "code",
   "execution_count": 11,
   "id": "972b54e6",
   "metadata": {},
   "outputs": [
    {
     "name": "stdout",
     "output_type": "stream",
     "text": [
      "Performance increase = 9.910802775024779\n"
     ]
    }
   ],
   "source": [
    "# true speedup - the upper limit speedup possible for a parallel processing system\n",
    "\n",
    "parallelisable = 0.9\n",
    "processors = 1000\n",
    "\n",
    "increase = 1 / ((1 - parallelisable) + (parallelisable / processors))\n",
    "\n",
    "print(\"Performance increase = \" + str(increase))"
   ]
  },
  {
   "cell_type": "markdown",
   "id": "55c73aaa",
   "metadata": {},
   "source": [
    "# 3.0 Memory"
   ]
  },
  {
   "cell_type": "code",
   "execution_count": 19,
   "id": "3722d96e",
   "metadata": {},
   "outputs": [
    {
     "name": "stdout",
     "output_type": "stream",
     "text": [
      "Reads per second = 266\n",
      "Memory bandwidth = 1064\n"
     ]
    }
   ],
   "source": [
    "# memory bandwidth\n",
    "\n",
    "cycle = 5   # clocks per read\n",
    "dram = 1333 # dram clock rate\n",
    "bits = 32   # memory bus width\n",
    "\n",
    "reads = math.floor(dram/cycle)\n",
    "\n",
    "print(\"Reads per second = \" + str(reads))\n",
    "\n",
    "bandwidth = math.floor(reads * (bits/8))\n",
    "\n",
    "print(\"Memory bandwidth = \" + str(bandwidth))"
   ]
  },
  {
   "cell_type": "code",
   "execution_count": 12,
   "id": "cad70d6d",
   "metadata": {},
   "outputs": [
    {
     "name": "stdout",
     "output_type": "stream",
     "text": [
      "Average read time: 3.5 clock cycles\n"
     ]
    }
   ],
   "source": [
    "# cache read time = hit rate + miss rate + miss penalty\n",
    "\n",
    "cache_cycle = 1   # clock cycle of SRAM cache\n",
    "memory_cycle = 3  # clock cylce of DRAM main memory\n",
    "\n",
    "row = 1           # cycles for row address lookup\n",
    "column = 1        # cycles for row address lookup\n",
    "\n",
    "hit_rate = 0.9   # cache hit rate\n",
    "miss_rate = 0.1  # cache miss rate\n",
    "\n",
    "# cache hit\n",
    "cache_hit = (cache_cycle + row + column) * hit_rate     # cache read time on cache hit\n",
    "\n",
    "# cache miss\n",
    "cache_miss = (cache_cycle + row + column) * miss_rate   # cache read time penalty on cache miss\n",
    "memory_miss = (memory_cycle + row + column) * miss_rate # memory read time on cachet miss\n",
    "\n",
    "print(\"Average read time: \" + str(cache_hit + cache_miss + memory_miss) + \" clock cycles\")"
   ]
  },
  {
   "cell_type": "code",
   "execution_count": 11,
   "id": "bb45e33e",
   "metadata": {},
   "outputs": [
    {
     "name": "stdout",
     "output_type": "stream",
     "text": [
      "Average read time: 1.35 clocks\n"
     ]
    }
   ],
   "source": [
    "# multi level cache read time = hit rate + miss rate + miss penalty\n",
    "\n",
    "chip_cycle = 1    # clock cycle of on-chip processor cache\n",
    "cache_cycle = 1   # clock cycle of SRAM cache\n",
    "memory_cycle = 3  # clock cylce of DRAM main memory\n",
    "\n",
    "row = 1           # cycles for row address lookup\n",
    "column = 1        # cycles for row address lookup\n",
    "\n",
    "hit_rate = 0.9   # cache hit rate\n",
    "miss_rate = 0.1  # cache miss rate\n",
    "\n",
    "# on chip cache\n",
    "chip_hit = (chip_cycle) * hit_rate   # on chip cache read time on cache hit\n",
    "chip_miss = (chip_cycle) * miss_rate # on chip cache read time penalty on cache miss\n",
    "\n",
    "# cache\n",
    "cache_hit = (cache_cycle + row + column) * hit_rate     # cache read time on cache hit\n",
    "cache_miss = (cache_cycle + row + column) * miss_rate   # cache read time penalty on cache miss\n",
    "\n",
    "# memory\n",
    "memory_miss = (memory_cycle + row + column) * miss_rate # memory read time on cachet miss\n",
    "\n",
    "# off chip cache total\n",
    "external_miss = (cache_hit + cache_miss + memory_miss) * miss_rate\n",
    "\n",
    "print(\"Average read time: \" + str(chip_hit +  + chip_miss + external_miss) + \" clock cycles\")"
   ]
  },
  {
   "cell_type": "code",
   "execution_count": 111,
   "id": "994fea65",
   "metadata": {},
   "outputs": [
    {
     "name": "stdout",
     "output_type": "stream",
     "text": [
      "Minimum address: 0x0\n",
      "\n",
      "ROM starts: 0x0\n",
      "ROM ends: 0xfff\n",
      "\n",
      "RAM starts: 0x1000\n",
      "RAM ends: 0x1fff\n",
      "\n",
      "Flash starts: 0x2000\n",
      "Flash ends: 0x3fff\n",
      "\n",
      "Unused starts: 0x4000\n",
      "Unused ends: 0x7fff\n",
      "\n",
      "Maximum address: 0x7fff\n"
     ]
    }
   ],
   "source": [
    "# memory map values\n",
    "\n",
    "total = 32 # total memory in the system\n",
    "rom = 4  \n",
    "ram = 4\n",
    "flash = 8\n",
    "io_one = 0\n",
    "io_two = 0\n",
    "io_two = 0\n",
    "\n",
    "unused = total - rom - ram - flash- io_one - io_two - io_three\n",
    "\n",
    "print(\"Minimum address: \" + str(hex(0)))\n",
    "\n",
    "print(\"\\nROM starts: \" + str(hex(0)))\n",
    "print(\"ROM ends: \" + str(hex(rom * 1024 - 1)))\n",
    "\n",
    "print(\"\\nRAM starts: \" + str(hex(rom * 1024)))\n",
    "print(\"RAM ends: \" + str(hex((rom + ram) * 1024 - 1)))\n",
    "\n",
    "print(\"\\nFlash starts: \" + str(hex((rom + ram) * 1024)))\n",
    "print(\"Flash ends: \" + str(hex((rom + ram + flash) * 1024 - 1)))\n",
    "\n",
    "print(\"\\nUnused starts: \" + str(hex((rom + ram + flash) * 1024)))\n",
    "print(\"Unused ends: \" + str(hex((rom + ram + flash + unused) * 1024 - 1)))\n",
    "\n",
    "print(\"\\nMaximum address: \" + str(hex(total * 1024 - 1)))\n",
    "\n",
    "\n"
   ]
  },
  {
   "cell_type": "code",
   "execution_count": null,
   "id": "4733ddaf",
   "metadata": {},
   "outputs": [],
   "source": []
  }
 ],
 "metadata": {
  "kernelspec": {
   "display_name": "Python 3 (ipykernel)",
   "language": "python",
   "name": "python3"
  },
  "language_info": {
   "codemirror_mode": {
    "name": "ipython",
    "version": 3
   },
   "file_extension": ".py",
   "mimetype": "text/x-python",
   "name": "python",
   "nbconvert_exporter": "python",
   "pygments_lexer": "ipython3",
   "version": "3.9.7"
  }
 },
 "nbformat": 4,
 "nbformat_minor": 5
}
