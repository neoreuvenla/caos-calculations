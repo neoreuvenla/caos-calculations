{
 "cells": [
  {
   "cell_type": "markdown",
   "id": "efd093d0",
   "metadata": {},
   "source": [
    "# 1.0 Measurements"
   ]
  },
  {
   "cell_type": "code",
   "execution_count": null,
   "id": "20af2656",
   "metadata": {},
   "outputs": [],
   "source": [
    "# digital information sizes\n",
    "\n",
    "unit = 1\n",
    "measurement = mb\n",
    "\n",
    "if measurement == mb:\n",
    "       return size_in_bytes/1024\n",
    "    \n",
    "    \n",
    "    \n",
    "    \n",
    "    \n",
    "   elif unit == SIZE_UNIT.MB:\n",
    "       return size_in_bytes/(1024*1024)\n",
    "   elif unit == SIZE_UNIT.GB:\n",
    "       return size_in_bytes/(1024*1024*1024)\n",
    "   else:\n",
    "       return size_in_bytes\n"
   ]
  },
  {
   "cell_type": "markdown",
   "id": "ebc9ba64",
   "metadata": {},
   "source": [
    "# 2.0 Paralellism"
   ]
  },
  {
   "cell_type": "code",
   "execution_count": 10,
   "id": "6930ee11",
   "metadata": {},
   "outputs": [
    {
     "name": "stdout",
     "output_type": "stream",
     "text": [
      "Performance increase = 2.0\n"
     ]
    }
   ],
   "source": [
    "# amdahl’s law - the upper limit speedup possible through parallelism\n",
    "\n",
    "parallelisable = 0.50\n",
    "\n",
    "increase = 1 / (1 - parallelisable)\n",
    "\n",
    "print(\"Performance increase = \" + str(increase))"
   ]
  },
  {
   "cell_type": "code",
   "execution_count": 11,
   "id": "28ce2b33",
   "metadata": {},
   "outputs": [
    {
     "name": "stdout",
     "output_type": "stream",
     "text": [
      "Performance increase = 9.910802775024779\n"
     ]
    }
   ],
   "source": [
    "# true speedup - the upper limit speedup possible for a parallel processing system\n",
    "\n",
    "parallelisable = 0.9\n",
    "processors = 1000\n",
    "\n",
    "increase = 1 / ((1 - parallelisable) + (parallelisable / processors))\n",
    "\n",
    "print(\"Performance increase = \" + str(increase))"
   ]
  },
  {
   "cell_type": "code",
   "execution_count": null,
   "id": "12ebd282",
   "metadata": {},
   "outputs": [],
   "source": []
  }
 ],
 "metadata": {
  "kernelspec": {
   "display_name": "Python 3 (ipykernel)",
   "language": "python",
   "name": "python3"
  },
  "language_info": {
   "codemirror_mode": {
    "name": "ipython",
    "version": 3
   },
   "file_extension": ".py",
   "mimetype": "text/x-python",
   "name": "python",
   "nbconvert_exporter": "python",
   "pygments_lexer": "ipython3",
   "version": "3.9.7"
  }
 },
 "nbformat": 4,
 "nbformat_minor": 5
}
